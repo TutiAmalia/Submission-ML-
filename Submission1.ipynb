{
  "nbformat": 4,
  "nbformat_minor": 0,
  "metadata": {
    "colab": {
      "name": "Submission1.ipynb",
      "provenance": []
    },
    "kernelspec": {
      "display_name": "Python 3",
      "name": "python3"
    },
    "language_info": {
      "name": "python"
    },
    "accelerator": "GPU"
  },
  "cells": [
    {
      "cell_type": "markdown",
      "metadata": {
        "id": "OGaHZbJzTjbK"
      },
      "source": [
        "*   Nama: Tuti Amalia\n",
        "*   Email: amalia.tuti111@gmail.com\n",
        "*   Asal: Kabupaten Gowa\n",
        "*   Proyek pertama: menggunakan model NLP\n",
        "*   Dataset yang digunakan: https://www.kaggle.com/shauryavardhan1/emotion-classifier-dataset\n",
        "\n",
        "\n"
      ]
    },
    {
      "cell_type": "markdown",
      "metadata": {
        "id": "cMe3g_dNWDp1"
      },
      "source": [
        "Library"
      ]
    },
    {
      "cell_type": "code",
      "metadata": {
        "id": "gDh0ZqYaj1eM"
      },
      "source": [
        "import pandas as pd\n",
        "import seaborn as sns\n",
        "import matplotlib.pyplot as plt"
      ],
      "execution_count": 1,
      "outputs": []
    },
    {
      "cell_type": "code",
      "metadata": {
        "id": "p8-dtqHsj8Yz"
      },
      "source": [
        "from sklearn.model_selection import train_test_split\n",
        "\n",
        "import tensorflow as tf\n",
        "from tensorflow.keras.preprocessing.text import Tokenizer\n",
        "from tensorflow.keras.preprocessing.sequence import pad_sequences\n",
        "\n",
        "from tensorflow.keras.models import Sequential"
      ],
      "execution_count": 2,
      "outputs": []
    },
    {
      "cell_type": "markdown",
      "metadata": {
        "id": "QIjqOzkMWJi1"
      },
      "source": [
        "Download Dataset"
      ]
    },
    {
      "cell_type": "code",
      "metadata": {
        "colab": {
          "base_uri": "https://localhost:8080/"
        },
        "id": "jIsteU4Uj9oP",
        "outputId": "b9bfe72c-4872-48a3-9ba5-d9360741bbfc"
      },
      "source": [
        "!wget --no-check-certificate 'https://drive.google.com/uc?export=download&id=12ljMpZL6iYxdiiFSxPcZMbbKh_kixfex'  \\\n",
        "  -O 'archive (1).zip'"
      ],
      "execution_count": 3,
      "outputs": [
        {
          "output_type": "stream",
          "text": [
            "--2021-08-07 02:22:02--  https://drive.google.com/uc?export=download&id=12ljMpZL6iYxdiiFSxPcZMbbKh_kixfex\n",
            "Resolving drive.google.com (drive.google.com)... 142.250.141.139, 142.250.141.101, 142.250.141.113, ...\n",
            "Connecting to drive.google.com (drive.google.com)|142.250.141.139|:443... connected.\n",
            "HTTP request sent, awaiting response... 302 Moved Temporarily\n",
            "Location: https://doc-04-9g-docs.googleusercontent.com/docs/securesc/ha0ro937gcuc7l7deffksulhg5h7mbp1/n99uie5fjmacsq23uggbgc8r5ve31kbv/1628302875000/12137666749112449155/*/12ljMpZL6iYxdiiFSxPcZMbbKh_kixfex?e=download [following]\n",
            "Warning: wildcards not supported in HTTP.\n",
            "--2021-08-07 02:22:03--  https://doc-04-9g-docs.googleusercontent.com/docs/securesc/ha0ro937gcuc7l7deffksulhg5h7mbp1/n99uie5fjmacsq23uggbgc8r5ve31kbv/1628302875000/12137666749112449155/*/12ljMpZL6iYxdiiFSxPcZMbbKh_kixfex?e=download\n",
            "Resolving doc-04-9g-docs.googleusercontent.com (doc-04-9g-docs.googleusercontent.com)... 142.251.2.132, 2607:f8b0:4023:c0d::84\n",
            "Connecting to doc-04-9g-docs.googleusercontent.com (doc-04-9g-docs.googleusercontent.com)|142.251.2.132|:443... connected.\n",
            "HTTP request sent, awaiting response... 200 OK\n",
            "Length: 119940 (117K) [application/x-zip-compressed]\n",
            "Saving to: ‘archive (1).zip’\n",
            "\n",
            "archive (1).zip     100%[===================>] 117.13K  --.-KB/s    in 0.07s   \n",
            "\n",
            "2021-08-07 02:22:03 (1.54 MB/s) - ‘archive (1).zip’ saved [119940/119940]\n",
            "\n"
          ],
          "name": "stdout"
        }
      ]
    },
    {
      "cell_type": "code",
      "metadata": {
        "id": "9w537ufSkHOw"
      },
      "source": [
        "# melakukan ekstraksi pada file zip\n",
        "import zipfile,os\n",
        "fileZip = 'archive (1).zip'\n",
        "zipRef = zipfile.ZipFile(fileZip, 'r')\n",
        "zipRef.extractall('')\n",
        "zipRef.close()"
      ],
      "execution_count": 4,
      "outputs": []
    },
    {
      "cell_type": "code",
      "metadata": {
        "colab": {
          "base_uri": "https://localhost:8080/",
          "height": 204
        },
        "id": "MAhYbvTCkWnN",
        "outputId": "6950e17f-e1c2-407d-c542-0b6b3bd42a7f"
      },
      "source": [
        "df = pd.read_csv('Emotion.csv', encoding='windows-1252')\n",
        "# encoding='utf-8'\n",
        "df.head()"
      ],
      "execution_count": 5,
      "outputs": [
        {
          "output_type": "execute_result",
          "data": {
            "text/html": [
              "<div>\n",
              "<style scoped>\n",
              "    .dataframe tbody tr th:only-of-type {\n",
              "        vertical-align: middle;\n",
              "    }\n",
              "\n",
              "    .dataframe tbody tr th {\n",
              "        vertical-align: top;\n",
              "    }\n",
              "\n",
              "    .dataframe thead th {\n",
              "        text-align: right;\n",
              "    }\n",
              "</style>\n",
              "<table border=\"1\" class=\"dataframe\">\n",
              "  <thead>\n",
              "    <tr style=\"text-align: right;\">\n",
              "      <th></th>\n",
              "      <th>id</th>\n",
              "      <th>Text</th>\n",
              "      <th>Emotion</th>\n",
              "      <th>confidence</th>\n",
              "    </tr>\n",
              "  </thead>\n",
              "  <tbody>\n",
              "    <tr>\n",
              "      <th>0</th>\n",
              "      <td>30000</td>\n",
              "      <td>Just got back from seeing @GaryDelaney in Burs...</td>\n",
              "      <td>joy</td>\n",
              "      <td>0.980</td>\n",
              "    </tr>\n",
              "    <tr>\n",
              "      <th>1</th>\n",
              "      <td>30001</td>\n",
              "      <td>Oh dear an evening of absolute hilarity I don'...</td>\n",
              "      <td>joy</td>\n",
              "      <td>0.958</td>\n",
              "    </tr>\n",
              "    <tr>\n",
              "      <th>2</th>\n",
              "      <td>30002</td>\n",
              "      <td>Been waiting all week for this game ?????? #ch...</td>\n",
              "      <td>joy</td>\n",
              "      <td>0.940</td>\n",
              "    </tr>\n",
              "    <tr>\n",
              "      <th>3</th>\n",
              "      <td>30003</td>\n",
              "      <td>@gardiner_love : Thank you so much, Gloria! Yo...</td>\n",
              "      <td>joy</td>\n",
              "      <td>0.938</td>\n",
              "    </tr>\n",
              "    <tr>\n",
              "      <th>4</th>\n",
              "      <td>30004</td>\n",
              "      <td>I feel so blessed to work with the family that...</td>\n",
              "      <td>joy</td>\n",
              "      <td>0.938</td>\n",
              "    </tr>\n",
              "  </tbody>\n",
              "</table>\n",
              "</div>"
            ],
            "text/plain": [
              "      id                                               Text Emotion  confidence\n",
              "0  30000  Just got back from seeing @GaryDelaney in Burs...     joy       0.980\n",
              "1  30001  Oh dear an evening of absolute hilarity I don'...     joy       0.958\n",
              "2  30002  Been waiting all week for this game ?????? #ch...     joy       0.940\n",
              "3  30003  @gardiner_love : Thank you so much, Gloria! Yo...     joy       0.938\n",
              "4  30004  I feel so blessed to work with the family that...     joy       0.938"
            ]
          },
          "metadata": {
            "tags": []
          },
          "execution_count": 5
        }
      ]
    },
    {
      "cell_type": "markdown",
      "metadata": {
        "id": "jmaNKHE2WaZg"
      },
      "source": [
        "Mengambil"
      ]
    },
    {
      "cell_type": "code",
      "metadata": {
        "colab": {
          "base_uri": "https://localhost:8080/",
          "height": 204
        },
        "id": "oJXjm2KwkbXr",
        "outputId": "9dc37d61-6d16-4877-ae82-9ee65880ca3c"
      },
      "source": [
        "df = df.drop(['id', 'confidence'], axis=1)\n",
        "df.head()"
      ],
      "execution_count": 6,
      "outputs": [
        {
          "output_type": "execute_result",
          "data": {
            "text/html": [
              "<div>\n",
              "<style scoped>\n",
              "    .dataframe tbody tr th:only-of-type {\n",
              "        vertical-align: middle;\n",
              "    }\n",
              "\n",
              "    .dataframe tbody tr th {\n",
              "        vertical-align: top;\n",
              "    }\n",
              "\n",
              "    .dataframe thead th {\n",
              "        text-align: right;\n",
              "    }\n",
              "</style>\n",
              "<table border=\"1\" class=\"dataframe\">\n",
              "  <thead>\n",
              "    <tr style=\"text-align: right;\">\n",
              "      <th></th>\n",
              "      <th>Text</th>\n",
              "      <th>Emotion</th>\n",
              "    </tr>\n",
              "  </thead>\n",
              "  <tbody>\n",
              "    <tr>\n",
              "      <th>0</th>\n",
              "      <td>Just got back from seeing @GaryDelaney in Burs...</td>\n",
              "      <td>joy</td>\n",
              "    </tr>\n",
              "    <tr>\n",
              "      <th>1</th>\n",
              "      <td>Oh dear an evening of absolute hilarity I don'...</td>\n",
              "      <td>joy</td>\n",
              "    </tr>\n",
              "    <tr>\n",
              "      <th>2</th>\n",
              "      <td>Been waiting all week for this game ?????? #ch...</td>\n",
              "      <td>joy</td>\n",
              "    </tr>\n",
              "    <tr>\n",
              "      <th>3</th>\n",
              "      <td>@gardiner_love : Thank you so much, Gloria! Yo...</td>\n",
              "      <td>joy</td>\n",
              "    </tr>\n",
              "    <tr>\n",
              "      <th>4</th>\n",
              "      <td>I feel so blessed to work with the family that...</td>\n",
              "      <td>joy</td>\n",
              "    </tr>\n",
              "  </tbody>\n",
              "</table>\n",
              "</div>"
            ],
            "text/plain": [
              "                                                Text Emotion\n",
              "0  Just got back from seeing @GaryDelaney in Burs...     joy\n",
              "1  Oh dear an evening of absolute hilarity I don'...     joy\n",
              "2  Been waiting all week for this game ?????? #ch...     joy\n",
              "3  @gardiner_love : Thank you so much, Gloria! Yo...     joy\n",
              "4  I feel so blessed to work with the family that...     joy"
            ]
          },
          "metadata": {
            "tags": []
          },
          "execution_count": 6
        }
      ]
    },
    {
      "cell_type": "markdown",
      "metadata": {
        "id": "IONS2FFiYcUx"
      },
      "source": [
        "Jumlah sampel yang digunakan"
      ]
    },
    {
      "cell_type": "code",
      "metadata": {
        "colab": {
          "base_uri": "https://localhost:8080/"
        },
        "id": "07E_n8QakrbB",
        "outputId": "53b0e260-4ba7-46a7-8d31-b0df5991280a"
      },
      "source": [
        "len(df)"
      ],
      "execution_count": 7,
      "outputs": [
        {
          "output_type": "execute_result",
          "data": {
            "text/plain": [
              "2581"
            ]
          },
          "metadata": {
            "tags": []
          },
          "execution_count": 7
        }
      ]
    },
    {
      "cell_type": "code",
      "metadata": {
        "colab": {
          "base_uri": "https://localhost:8080/",
          "height": 414
        },
        "id": "0tqDNr2ekteB",
        "outputId": "e7fc74d0-d307-4ac4-8fce-bfa7c9eefe29"
      },
      "source": [
        "plt.figure(figsize=(10,5))\n",
        "sns.countplot(df['Emotion'])\n",
        "plt.xticks(rotation=45)\n",
        "plt.show()"
      ],
      "execution_count": 8,
      "outputs": [
        {
          "output_type": "stream",
          "text": [
            "/usr/local/lib/python3.7/dist-packages/seaborn/_decorators.py:43: FutureWarning: Pass the following variable as a keyword arg: x. From version 0.12, the only valid positional argument will be `data`, and passing other arguments without an explicit keyword will result in an error or misinterpretation.\n",
            "  FutureWarning\n"
          ],
          "name": "stderr"
        },
        {
          "output_type": "display_data",
          "data": {
            "image/png": "[encoded data removed]",
            "text/plain": [
              "<Figure size 720x360 with 1 Axes>"
            ]
          },
          "metadata": {
            "tags": [],
            "needs_background": "light"
          }
        }
      ]
    },
    {
      "cell_type": "code",
      "metadata": {
        "colab": {
          "base_uri": "https://localhost:8080/"
        },
        "id": "lg7_zE8wkwWF",
        "outputId": "a38da0f1-5190-42c4-fb3d-1a2ca803b329"
      },
      "source": [
        "df['Emotion'].value_counts()"
      ],
      "execution_count": 9,
      "outputs": [
        {
          "output_type": "execute_result",
          "data": {
            "text/plain": [
              "fear       888\n",
              "joy        823\n",
              "sadness    786\n",
              "anger       84\n",
              "Name: Emotion, dtype: int64"
            ]
          },
          "metadata": {
            "tags": []
          },
          "execution_count": 9
        }
      ]
    },
    {
      "cell_type": "code",
      "metadata": {
        "colab": {
          "base_uri": "https://localhost:8080/"
        },
        "id": "LdeGa6FOnTo-",
        "outputId": "438e9ade-7f48-4862-c0ba-ddb7855dba07"
      },
      "source": [
        "#menghapus data yang duplikat\n",
        "df = df.drop_duplicates(subset=\"Text\")\n",
        "df.info()"
      ],
      "execution_count": 10,
      "outputs": [
        {
          "output_type": "stream",
          "text": [
            "<class 'pandas.core.frame.DataFrame'>\n",
            "Int64Index: 2566 entries, 0 to 2580\n",
            "Data columns (total 2 columns):\n",
            " #   Column   Non-Null Count  Dtype \n",
            "---  ------   --------------  ----- \n",
            " 0   Text     2566 non-null   object\n",
            " 1   Emotion  2566 non-null   object\n",
            "dtypes: object(2)\n",
            "memory usage: 60.1+ KB\n"
          ],
          "name": "stdout"
        }
      ]
    },
    {
      "cell_type": "markdown",
      "metadata": {
        "id": "tzd4yQ40XwZq"
      },
      "source": [
        "Pembersihan data"
      ]
    },
    {
      "cell_type": "code",
      "metadata": {
        "colab": {
          "base_uri": "https://localhost:8080/",
          "height": 204
        },
        "id": "FYgynPQjnWwG",
        "outputId": "c0190f1e-8561-4728-c560-578fdd818ae9"
      },
      "source": [
        "from gensim.utils import simple_preprocess\n",
        "from gensim.parsing.preprocessing import STOPWORDS\n",
        "def clean_text(text):\n",
        "    \"\"\"\n",
        "        text: a string \n",
        "        return: modified clean string\n",
        "    \"\"\"\n",
        "    result = \"\"\n",
        "    for token in simple_preprocess(text):\n",
        "        if token not in STOPWORDS and len(token) >= 2:\n",
        "            token = token.lower() \n",
        "            result+=token+\" \"     \n",
        "    return result\n",
        "\n",
        "df['Text'] = df['Text'].map(clean_text)\n",
        "df.head()"
      ],
      "execution_count": 11,
      "outputs": [
        {
          "output_type": "execute_result",
          "data": {
            "text/html": [
              "<div>\n",
              "<style scoped>\n",
              "    .dataframe tbody tr th:only-of-type {\n",
              "        vertical-align: middle;\n",
              "    }\n",
              "\n",
              "    .dataframe tbody tr th {\n",
              "        vertical-align: top;\n",
              "    }\n",
              "\n",
              "    .dataframe thead th {\n",
              "        text-align: right;\n",
              "    }\n",
              "</style>\n",
              "<table border=\"1\" class=\"dataframe\">\n",
              "  <thead>\n",
              "    <tr style=\"text-align: right;\">\n",
              "      <th></th>\n",
              "      <th>Text</th>\n",
              "      <th>Emotion</th>\n",
              "    </tr>\n",
              "  </thead>\n",
              "  <tbody>\n",
              "    <tr>\n",
              "      <th>0</th>\n",
              "      <td>got seeing garydelaney burslem amazing face hu...</td>\n",
              "      <td>joy</td>\n",
              "    </tr>\n",
              "    <tr>\n",
              "      <th>1</th>\n",
              "      <td>oh dear evening absolute hilarity think laughe...</td>\n",
              "      <td>joy</td>\n",
              "    </tr>\n",
              "    <tr>\n",
              "      <th>2</th>\n",
              "      <td>waiting week game cheer friday</td>\n",
              "      <td>joy</td>\n",
              "    </tr>\n",
              "    <tr>\n",
              "      <th>3</th>\n",
              "      <td>gardiner_love thank gloria sweet thoughtful da...</td>\n",
              "      <td>joy</td>\n",
              "    </tr>\n",
              "    <tr>\n",
              "      <th>4</th>\n",
              "      <td>feel blessed work family nanny love amp apprec...</td>\n",
              "      <td>joy</td>\n",
              "    </tr>\n",
              "  </tbody>\n",
              "</table>\n",
              "</div>"
            ],
            "text/plain": [
              "                                                Text Emotion\n",
              "0  got seeing garydelaney burslem amazing face hu...     joy\n",
              "1  oh dear evening absolute hilarity think laughe...     joy\n",
              "2                    waiting week game cheer friday      joy\n",
              "3  gardiner_love thank gloria sweet thoughtful da...     joy\n",
              "4  feel blessed work family nanny love amp apprec...     joy"
            ]
          },
          "metadata": {
            "tags": []
          },
          "execution_count": 11
        }
      ]
    },
    {
      "cell_type": "markdown",
      "metadata": {
        "id": "c33Z4wZTX6po"
      },
      "source": [
        "Oversampling data yang tidak seimbang"
      ]
    },
    {
      "cell_type": "code",
      "metadata": {
        "id": "v1TwOoCznjkg"
      },
      "source": [
        "X = df.drop('Emotion',axis=1)\n",
        "y = df['Emotion']"
      ],
      "execution_count": 12,
      "outputs": []
    },
    {
      "cell_type": "code",
      "metadata": {
        "colab": {
          "base_uri": "https://localhost:8080/"
        },
        "id": "lJZmygvxky9h",
        "outputId": "5d3ec9eb-185d-4324-e9e0-0e1b5a487a52"
      },
      "source": [
        "from imblearn.over_sampling import RandomOverSampler\n",
        "oversampler = RandomOverSampler(random_state=10)\n",
        "X_resample, y_resample = oversampler.fit_resample(X,y)"
      ],
      "execution_count": 13,
      "outputs": [
        {
          "output_type": "stream",
          "text": [
            "/usr/local/lib/python3.7/dist-packages/sklearn/externals/six.py:31: FutureWarning: The module is deprecated in version 0.21 and will be removed in version 0.23 since we've dropped support for Python 2.7. Please rely on the official version of six (https://pypi.org/project/six/).\n",
            "  \"(https://pypi.org/project/six/).\", FutureWarning)\n",
            "/usr/local/lib/python3.7/dist-packages/sklearn/utils/deprecation.py:144: FutureWarning: The sklearn.neighbors.base module is  deprecated in version 0.22 and will be removed in version 0.24. The corresponding classes / functions should instead be imported from sklearn.neighbors. Anything that cannot be imported from sklearn.neighbors is now part of the private API.\n",
            "  warnings.warn(message, FutureWarning)\n",
            "/usr/local/lib/python3.7/dist-packages/sklearn/utils/deprecation.py:87: FutureWarning: Function safe_indexing is deprecated; safe_indexing is deprecated in version 0.22 and will be removed in version 0.24.\n",
            "  warnings.warn(msg, category=FutureWarning)\n"
          ],
          "name": "stderr"
        }
      ]
    },
    {
      "cell_type": "code",
      "metadata": {
        "colab": {
          "base_uri": "https://localhost:8080/"
        },
        "id": "qOY4_nQ_nw83",
        "outputId": "9ff9d564-0c75-47af-e493-9dad911e8eb7"
      },
      "source": [
        "# Check the Fraud and Genuine data distribution after over sampling\n",
        "from collections import Counter\n",
        "print('Actual dataset {}'.format(Counter(y)))\n",
        "print('Undersampled dataset {}'.format(Counter(y_resample)))"
      ],
      "execution_count": 14,
      "outputs": [
        {
          "output_type": "stream",
          "text": [
            "Actual dataset Counter({'fear': 888, 'joy': 823, 'sadness': 772, 'anger': 83})\n",
            "Undersampled dataset Counter({'joy': 888, 'anger': 888, 'fear': 888, 'sadness': 888})\n"
          ],
          "name": "stdout"
        }
      ]
    },
    {
      "cell_type": "code",
      "metadata": {
        "colab": {
          "base_uri": "https://localhost:8080/"
        },
        "id": "SaH3XaSbovh5",
        "outputId": "95b115eb-c70d-464a-f3ef-19b2cb5dccf6"
      },
      "source": [
        "y_resample = pd.DataFrame(y_resample)\n",
        "y_resample.value_counts()"
      ],
      "execution_count": 15,
      "outputs": [
        {
          "output_type": "execute_result",
          "data": {
            "text/plain": [
              "sadness    888\n",
              "joy        888\n",
              "fear       888\n",
              "anger      888\n",
              "dtype: int64"
            ]
          },
          "metadata": {
            "tags": []
          },
          "execution_count": 15
        }
      ]
    },
    {
      "cell_type": "markdown",
      "metadata": {
        "id": "5H_JaxYzYNQc"
      },
      "source": [
        "Ploting hasil oversampling data"
      ]
    },
    {
      "cell_type": "code",
      "metadata": {
        "colab": {
          "base_uri": "https://localhost:8080/",
          "height": 414
        },
        "id": "L7hYqKCPn_Vy",
        "outputId": "aaaa981f-e576-4ba9-99d2-f8ebd458289b"
      },
      "source": [
        "plt.figure(figsize=(10,5))\n",
        "sns.countplot(y_resample[0])\n",
        "plt.xticks(rotation=45)\n",
        "plt.show()"
      ],
      "execution_count": 67,
      "outputs": [
        {
          "output_type": "stream",
          "text": [
            "/usr/local/lib/python3.7/dist-packages/seaborn/_decorators.py:43: FutureWarning: Pass the following variable as a keyword arg: x. From version 0.12, the only valid positional argument will be `data`, and passing other arguments without an explicit keyword will result in an error or misinterpretation.\n",
            "  FutureWarning\n"
          ],
          "name": "stderr"
        },
        {
          "output_type": "display_data",
          "data": {
            "image/png": "[encoded data removed]",
            "text/plain": [
              "<Figure size 720x360 with 1 Axes>"
            ]
          },
          "metadata": {
            "tags": [],
            "needs_background": "light"
          }
        }
      ]
    },
    {
      "cell_type": "code",
      "metadata": {
        "colab": {
          "base_uri": "https://localhost:8080/",
          "height": 419
        },
        "id": "92rWsNxBFxVm",
        "outputId": "adf91521-367a-498d-e3c6-2647bf886903"
      },
      "source": [
        "X_resample = pd.DataFrame(X_resample)\n",
        "X_resample"
      ],
      "execution_count": 17,
      "outputs": [
        {
          "output_type": "execute_result",
          "data": {
            "text/html": [
              "<div>\n",
              "<style scoped>\n",
              "    .dataframe tbody tr th:only-of-type {\n",
              "        vertical-align: middle;\n",
              "    }\n",
              "\n",
              "    .dataframe tbody tr th {\n",
              "        vertical-align: top;\n",
              "    }\n",
              "\n",
              "    .dataframe thead th {\n",
              "        text-align: right;\n",
              "    }\n",
              "</style>\n",
              "<table border=\"1\" class=\"dataframe\">\n",
              "  <thead>\n",
              "    <tr style=\"text-align: right;\">\n",
              "      <th></th>\n",
              "      <th>0</th>\n",
              "    </tr>\n",
              "  </thead>\n",
              "  <tbody>\n",
              "    <tr>\n",
              "      <th>0</th>\n",
              "      <td>got seeing garydelaney burslem amazing face hu...</td>\n",
              "    </tr>\n",
              "    <tr>\n",
              "      <th>1</th>\n",
              "      <td>oh dear evening absolute hilarity think laughe...</td>\n",
              "    </tr>\n",
              "    <tr>\n",
              "      <th>2</th>\n",
              "      <td>waiting week game cheer friday</td>\n",
              "    </tr>\n",
              "    <tr>\n",
              "      <th>3</th>\n",
              "      <td>gardiner_love thank gloria sweet thoughtful da...</td>\n",
              "    </tr>\n",
              "    <tr>\n",
              "      <th>4</th>\n",
              "      <td>feel blessed work family nanny love amp apprec...</td>\n",
              "    </tr>\n",
              "    <tr>\n",
              "      <th>...</th>\n",
              "      <td>...</td>\n",
              "    </tr>\n",
              "    <tr>\n",
              "      <th>3547</th>\n",
              "      <td>cnn yes cops ppl lost lives alive</td>\n",
              "    </tr>\n",
              "    <tr>\n",
              "      <th>3548</th>\n",
              "      <td>optimism delusional pessimism delusional alan ...</td>\n",
              "    </tr>\n",
              "    <tr>\n",
              "      <th>3549</th>\n",
              "      <td>dxfyinggrxvity forlorn scanning witches house ...</td>\n",
              "    </tr>\n",
              "    <tr>\n",
              "      <th>3550</th>\n",
              "      <td>cardiff amazing days away depressing</td>\n",
              "    </tr>\n",
              "    <tr>\n",
              "      <th>3551</th>\n",
              "      <td>jwonder macadamionnut course progress sake pro...</td>\n",
              "    </tr>\n",
              "  </tbody>\n",
              "</table>\n",
              "<p>3552 rows × 1 columns</p>\n",
              "</div>"
            ],
            "text/plain": [
              "                                                      0\n",
              "0     got seeing garydelaney burslem amazing face hu...\n",
              "1     oh dear evening absolute hilarity think laughe...\n",
              "2                       waiting week game cheer friday \n",
              "3     gardiner_love thank gloria sweet thoughtful da...\n",
              "4     feel blessed work family nanny love amp apprec...\n",
              "...                                                 ...\n",
              "3547                 cnn yes cops ppl lost lives alive \n",
              "3548  optimism delusional pessimism delusional alan ...\n",
              "3549  dxfyinggrxvity forlorn scanning witches house ...\n",
              "3550              cardiff amazing days away depressing \n",
              "3551  jwonder macadamionnut course progress sake pro...\n",
              "\n",
              "[3552 rows x 1 columns]"
            ]
          },
          "metadata": {
            "tags": []
          },
          "execution_count": 17
        }
      ]
    },
    {
      "cell_type": "code",
      "metadata": {
        "colab": {
          "base_uri": "https://localhost:8080/",
          "height": 419
        },
        "id": "FiLdqvfzJglW",
        "outputId": "01d3b73f-27b4-4339-d797-3c651d2a0323"
      },
      "source": [
        "y_resample"
      ],
      "execution_count": 18,
      "outputs": [
        {
          "output_type": "execute_result",
          "data": {
            "text/html": [
              "<div>\n",
              "<style scoped>\n",
              "    .dataframe tbody tr th:only-of-type {\n",
              "        vertical-align: middle;\n",
              "    }\n",
              "\n",
              "    .dataframe tbody tr th {\n",
              "        vertical-align: top;\n",
              "    }\n",
              "\n",
              "    .dataframe thead th {\n",
              "        text-align: right;\n",
              "    }\n",
              "</style>\n",
              "<table border=\"1\" class=\"dataframe\">\n",
              "  <thead>\n",
              "    <tr style=\"text-align: right;\">\n",
              "      <th></th>\n",
              "      <th>0</th>\n",
              "    </tr>\n",
              "  </thead>\n",
              "  <tbody>\n",
              "    <tr>\n",
              "      <th>0</th>\n",
              "      <td>joy</td>\n",
              "    </tr>\n",
              "    <tr>\n",
              "      <th>1</th>\n",
              "      <td>joy</td>\n",
              "    </tr>\n",
              "    <tr>\n",
              "      <th>2</th>\n",
              "      <td>joy</td>\n",
              "    </tr>\n",
              "    <tr>\n",
              "      <th>3</th>\n",
              "      <td>joy</td>\n",
              "    </tr>\n",
              "    <tr>\n",
              "      <th>4</th>\n",
              "      <td>joy</td>\n",
              "    </tr>\n",
              "    <tr>\n",
              "      <th>...</th>\n",
              "      <td>...</td>\n",
              "    </tr>\n",
              "    <tr>\n",
              "      <th>3547</th>\n",
              "      <td>sadness</td>\n",
              "    </tr>\n",
              "    <tr>\n",
              "      <th>3548</th>\n",
              "      <td>sadness</td>\n",
              "    </tr>\n",
              "    <tr>\n",
              "      <th>3549</th>\n",
              "      <td>sadness</td>\n",
              "    </tr>\n",
              "    <tr>\n",
              "      <th>3550</th>\n",
              "      <td>sadness</td>\n",
              "    </tr>\n",
              "    <tr>\n",
              "      <th>3551</th>\n",
              "      <td>sadness</td>\n",
              "    </tr>\n",
              "  </tbody>\n",
              "</table>\n",
              "<p>3552 rows × 1 columns</p>\n",
              "</div>"
            ],
            "text/plain": [
              "            0\n",
              "0         joy\n",
              "1         joy\n",
              "2         joy\n",
              "3         joy\n",
              "4         joy\n",
              "...       ...\n",
              "3547  sadness\n",
              "3548  sadness\n",
              "3549  sadness\n",
              "3550  sadness\n",
              "3551  sadness\n",
              "\n",
              "[3552 rows x 1 columns]"
            ]
          },
          "metadata": {
            "tags": []
          },
          "execution_count": 18
        }
      ]
    },
    {
      "cell_type": "markdown",
      "metadata": {
        "id": "RNRlPpcuWxaR"
      },
      "source": [
        "Mengubah Emotion menjadi One Hot Vector"
      ]
    },
    {
      "cell_type": "code",
      "metadata": {
        "colab": {
          "base_uri": "https://localhost:8080/",
          "height": 204
        },
        "id": "4f4bTJZ4oF7i",
        "outputId": "5a436eda-6994-4d0a-b8a8-40aeb334a053"
      },
      "source": [
        "review = pd.get_dummies(y_resample[0])\n",
        "review.head()"
      ],
      "execution_count": 68,
      "outputs": [
        {
          "output_type": "execute_result",
          "data": {
            "text/html": [
              "<div>\n",
              "<style scoped>\n",
              "    .dataframe tbody tr th:only-of-type {\n",
              "        vertical-align: middle;\n",
              "    }\n",
              "\n",
              "    .dataframe tbody tr th {\n",
              "        vertical-align: top;\n",
              "    }\n",
              "\n",
              "    .dataframe thead th {\n",
              "        text-align: right;\n",
              "    }\n",
              "</style>\n",
              "<table border=\"1\" class=\"dataframe\">\n",
              "  <thead>\n",
              "    <tr style=\"text-align: right;\">\n",
              "      <th></th>\n",
              "      <th>anger</th>\n",
              "      <th>fear</th>\n",
              "      <th>joy</th>\n",
              "      <th>sadness</th>\n",
              "    </tr>\n",
              "  </thead>\n",
              "  <tbody>\n",
              "    <tr>\n",
              "      <th>0</th>\n",
              "      <td>0</td>\n",
              "      <td>0</td>\n",
              "      <td>1</td>\n",
              "      <td>0</td>\n",
              "    </tr>\n",
              "    <tr>\n",
              "      <th>1</th>\n",
              "      <td>0</td>\n",
              "      <td>0</td>\n",
              "      <td>1</td>\n",
              "      <td>0</td>\n",
              "    </tr>\n",
              "    <tr>\n",
              "      <th>2</th>\n",
              "      <td>0</td>\n",
              "      <td>0</td>\n",
              "      <td>1</td>\n",
              "      <td>0</td>\n",
              "    </tr>\n",
              "    <tr>\n",
              "      <th>3</th>\n",
              "      <td>0</td>\n",
              "      <td>0</td>\n",
              "      <td>1</td>\n",
              "      <td>0</td>\n",
              "    </tr>\n",
              "    <tr>\n",
              "      <th>4</th>\n",
              "      <td>0</td>\n",
              "      <td>0</td>\n",
              "      <td>1</td>\n",
              "      <td>0</td>\n",
              "    </tr>\n",
              "  </tbody>\n",
              "</table>\n",
              "</div>"
            ],
            "text/plain": [
              "   anger  fear  joy  sadness\n",
              "0      0     0    1        0\n",
              "1      0     0    1        0\n",
              "2      0     0    1        0\n",
              "3      0     0    1        0\n",
              "4      0     0    1        0"
            ]
          },
          "metadata": {
            "tags": []
          },
          "execution_count": 68
        }
      ]
    },
    {
      "cell_type": "code",
      "metadata": {
        "colab": {
          "base_uri": "https://localhost:8080/",
          "height": 419
        },
        "id": "DWO06ProK6l6",
        "outputId": "9494b54d-55de-4c8a-b6b9-cfb99250069f"
      },
      "source": [
        "X_resample = X_resample.rename(columns={0 : 'Text'})\n",
        "X_resample"
      ],
      "execution_count": 20,
      "outputs": [
        {
          "output_type": "execute_result",
          "data": {
            "text/html": [
              "<div>\n",
              "<style scoped>\n",
              "    .dataframe tbody tr th:only-of-type {\n",
              "        vertical-align: middle;\n",
              "    }\n",
              "\n",
              "    .dataframe tbody tr th {\n",
              "        vertical-align: top;\n",
              "    }\n",
              "\n",
              "    .dataframe thead th {\n",
              "        text-align: right;\n",
              "    }\n",
              "</style>\n",
              "<table border=\"1\" class=\"dataframe\">\n",
              "  <thead>\n",
              "    <tr style=\"text-align: right;\">\n",
              "      <th></th>\n",
              "      <th>Text</th>\n",
              "    </tr>\n",
              "  </thead>\n",
              "  <tbody>\n",
              "    <tr>\n",
              "      <th>0</th>\n",
              "      <td>got seeing garydelaney burslem amazing face hu...</td>\n",
              "    </tr>\n",
              "    <tr>\n",
              "      <th>1</th>\n",
              "      <td>oh dear evening absolute hilarity think laughe...</td>\n",
              "    </tr>\n",
              "    <tr>\n",
              "      <th>2</th>\n",
              "      <td>waiting week game cheer friday</td>\n",
              "    </tr>\n",
              "    <tr>\n",
              "      <th>3</th>\n",
              "      <td>gardiner_love thank gloria sweet thoughtful da...</td>\n",
              "    </tr>\n",
              "    <tr>\n",
              "      <th>4</th>\n",
              "      <td>feel blessed work family nanny love amp apprec...</td>\n",
              "    </tr>\n",
              "    <tr>\n",
              "      <th>...</th>\n",
              "      <td>...</td>\n",
              "    </tr>\n",
              "    <tr>\n",
              "      <th>3547</th>\n",
              "      <td>cnn yes cops ppl lost lives alive</td>\n",
              "    </tr>\n",
              "    <tr>\n",
              "      <th>3548</th>\n",
              "      <td>optimism delusional pessimism delusional alan ...</td>\n",
              "    </tr>\n",
              "    <tr>\n",
              "      <th>3549</th>\n",
              "      <td>dxfyinggrxvity forlorn scanning witches house ...</td>\n",
              "    </tr>\n",
              "    <tr>\n",
              "      <th>3550</th>\n",
              "      <td>cardiff amazing days away depressing</td>\n",
              "    </tr>\n",
              "    <tr>\n",
              "      <th>3551</th>\n",
              "      <td>jwonder macadamionnut course progress sake pro...</td>\n",
              "    </tr>\n",
              "  </tbody>\n",
              "</table>\n",
              "<p>3552 rows × 1 columns</p>\n",
              "</div>"
            ],
            "text/plain": [
              "                                                   Text\n",
              "0     got seeing garydelaney burslem amazing face hu...\n",
              "1     oh dear evening absolute hilarity think laughe...\n",
              "2                       waiting week game cheer friday \n",
              "3     gardiner_love thank gloria sweet thoughtful da...\n",
              "4     feel blessed work family nanny love amp apprec...\n",
              "...                                                 ...\n",
              "3547                 cnn yes cops ppl lost lives alive \n",
              "3548  optimism delusional pessimism delusional alan ...\n",
              "3549  dxfyinggrxvity forlorn scanning witches house ...\n",
              "3550              cardiff amazing days away depressing \n",
              "3551  jwonder macadamionnut course progress sake pro...\n",
              "\n",
              "[3552 rows x 1 columns]"
            ]
          },
          "metadata": {
            "tags": []
          },
          "execution_count": 20
        }
      ]
    },
    {
      "cell_type": "markdown",
      "metadata": {
        "id": "Y1S8mLgaYE_1"
      },
      "source": [
        "Menggabungkan Emotion dengan text dimana sudah dioversampling"
      ]
    },
    {
      "cell_type": "code",
      "metadata": {
        "colab": {
          "base_uri": "https://localhost:8080/",
          "height": 419
        },
        "id": "8OmM7Q59pnwS",
        "outputId": "23f4d51f-d940-4b9c-a428-c389266ebf2d"
      },
      "source": [
        "new_df = pd.concat([X_resample, review], axis=1)\n",
        "new_df"
      ],
      "execution_count": 21,
      "outputs": [
        {
          "output_type": "execute_result",
          "data": {
            "text/html": [
              "<div>\n",
              "<style scoped>\n",
              "    .dataframe tbody tr th:only-of-type {\n",
              "        vertical-align: middle;\n",
              "    }\n",
              "\n",
              "    .dataframe tbody tr th {\n",
              "        vertical-align: top;\n",
              "    }\n",
              "\n",
              "    .dataframe thead th {\n",
              "        text-align: right;\n",
              "    }\n",
              "</style>\n",
              "<table border=\"1\" class=\"dataframe\">\n",
              "  <thead>\n",
              "    <tr style=\"text-align: right;\">\n",
              "      <th></th>\n",
              "      <th>Text</th>\n",
              "      <th>anger</th>\n",
              "      <th>fear</th>\n",
              "      <th>joy</th>\n",
              "      <th>sadness</th>\n",
              "    </tr>\n",
              "  </thead>\n",
              "  <tbody>\n",
              "    <tr>\n",
              "      <th>0</th>\n",
              "      <td>got seeing garydelaney burslem amazing face hu...</td>\n",
              "      <td>0</td>\n",
              "      <td>0</td>\n",
              "      <td>1</td>\n",
              "      <td>0</td>\n",
              "    </tr>\n",
              "    <tr>\n",
              "      <th>1</th>\n",
              "      <td>oh dear evening absolute hilarity think laughe...</td>\n",
              "      <td>0</td>\n",
              "      <td>0</td>\n",
              "      <td>1</td>\n",
              "      <td>0</td>\n",
              "    </tr>\n",
              "    <tr>\n",
              "      <th>2</th>\n",
              "      <td>waiting week game cheer friday</td>\n",
              "      <td>0</td>\n",
              "      <td>0</td>\n",
              "      <td>1</td>\n",
              "      <td>0</td>\n",
              "    </tr>\n",
              "    <tr>\n",
              "      <th>3</th>\n",
              "      <td>gardiner_love thank gloria sweet thoughtful da...</td>\n",
              "      <td>0</td>\n",
              "      <td>0</td>\n",
              "      <td>1</td>\n",
              "      <td>0</td>\n",
              "    </tr>\n",
              "    <tr>\n",
              "      <th>4</th>\n",
              "      <td>feel blessed work family nanny love amp apprec...</td>\n",
              "      <td>0</td>\n",
              "      <td>0</td>\n",
              "      <td>1</td>\n",
              "      <td>0</td>\n",
              "    </tr>\n",
              "    <tr>\n",
              "      <th>...</th>\n",
              "      <td>...</td>\n",
              "      <td>...</td>\n",
              "      <td>...</td>\n",
              "      <td>...</td>\n",
              "      <td>...</td>\n",
              "    </tr>\n",
              "    <tr>\n",
              "      <th>3547</th>\n",
              "      <td>cnn yes cops ppl lost lives alive</td>\n",
              "      <td>0</td>\n",
              "      <td>0</td>\n",
              "      <td>0</td>\n",
              "      <td>1</td>\n",
              "    </tr>\n",
              "    <tr>\n",
              "      <th>3548</th>\n",
              "      <td>optimism delusional pessimism delusional alan ...</td>\n",
              "      <td>0</td>\n",
              "      <td>0</td>\n",
              "      <td>0</td>\n",
              "      <td>1</td>\n",
              "    </tr>\n",
              "    <tr>\n",
              "      <th>3549</th>\n",
              "      <td>dxfyinggrxvity forlorn scanning witches house ...</td>\n",
              "      <td>0</td>\n",
              "      <td>0</td>\n",
              "      <td>0</td>\n",
              "      <td>1</td>\n",
              "    </tr>\n",
              "    <tr>\n",
              "      <th>3550</th>\n",
              "      <td>cardiff amazing days away depressing</td>\n",
              "      <td>0</td>\n",
              "      <td>0</td>\n",
              "      <td>0</td>\n",
              "      <td>1</td>\n",
              "    </tr>\n",
              "    <tr>\n",
              "      <th>3551</th>\n",
              "      <td>jwonder macadamionnut course progress sake pro...</td>\n",
              "      <td>0</td>\n",
              "      <td>0</td>\n",
              "      <td>0</td>\n",
              "      <td>1</td>\n",
              "    </tr>\n",
              "  </tbody>\n",
              "</table>\n",
              "<p>3552 rows × 5 columns</p>\n",
              "</div>"
            ],
            "text/plain": [
              "                                                   Text  anger  ...  joy  sadness\n",
              "0     got seeing garydelaney burslem amazing face hu...      0  ...    1        0\n",
              "1     oh dear evening absolute hilarity think laughe...      0  ...    1        0\n",
              "2                       waiting week game cheer friday       0  ...    1        0\n",
              "3     gardiner_love thank gloria sweet thoughtful da...      0  ...    1        0\n",
              "4     feel blessed work family nanny love amp apprec...      0  ...    1        0\n",
              "...                                                 ...    ...  ...  ...      ...\n",
              "3547                 cnn yes cops ppl lost lives alive       0  ...    0        1\n",
              "3548  optimism delusional pessimism delusional alan ...      0  ...    0        1\n",
              "3549  dxfyinggrxvity forlorn scanning witches house ...      0  ...    0        1\n",
              "3550              cardiff amazing days away depressing       0  ...    0        1\n",
              "3551  jwonder macadamionnut course progress sake pro...      0  ...    0        1\n",
              "\n",
              "[3552 rows x 5 columns]"
            ]
          },
          "metadata": {
            "tags": []
          },
          "execution_count": 21
        }
      ]
    },
    {
      "cell_type": "code",
      "metadata": {
        "colab": {
          "base_uri": "https://localhost:8080/"
        },
        "id": "fDHu5L45q4XJ",
        "outputId": "cff16088-9e78-4b52-996d-39e780b960be"
      },
      "source": [
        "new_df.shape"
      ],
      "execution_count": 22,
      "outputs": [
        {
          "output_type": "execute_result",
          "data": {
            "text/plain": [
              "(3552, 5)"
            ]
          },
          "metadata": {
            "tags": []
          },
          "execution_count": 22
        }
      ]
    },
    {
      "cell_type": "code",
      "metadata": {
        "colab": {
          "base_uri": "https://localhost:8080/"
        },
        "id": "FHUyRyjlrYS9",
        "outputId": "0e12a6f1-7d49-4278-e9dd-506f2a4b0f23"
      },
      "source": [
        "X = new_df['Text'].values\n",
        "y = new_df[['anger', 'fear', 'joy', 'sadness']].values\n",
        "print(X)\n",
        "print(y)"
      ],
      "execution_count": 23,
      "outputs": [
        {
          "output_type": "stream",
          "text": [
            "['got seeing garydelaney burslem amazing face hurts laughing hilarious '\n",
            " 'oh dear evening absolute hilarity think laughed long time '\n",
            " 'waiting week game cheer friday ' ...\n",
            " 'dxfyinggrxvity forlorn scanning witches house resting elphie grimmerie gone '\n",
            " 'cardiff amazing days away depressing '\n",
            " 'jwonder macadamionnut course progress sake progress discouraged problem substance rhetoric ']\n",
            "[[0 0 1 0]\n",
            " [0 0 1 0]\n",
            " [0 0 1 0]\n",
            " ...\n",
            " [0 0 0 1]\n",
            " [0 0 0 1]\n",
            " [0 0 0 1]]\n"
          ],
          "name": "stdout"
        }
      ]
    },
    {
      "cell_type": "markdown",
      "metadata": {
        "id": "f0TM-av8YUzO"
      },
      "source": [
        "Membagi validation set sebesar 20% dari total dataset"
      ]
    },
    {
      "cell_type": "code",
      "metadata": {
        "colab": {
          "base_uri": "https://localhost:8080/"
        },
        "id": "5RAex7BgrrFJ",
        "outputId": "786bb5ae-b4de-465c-d5bf-772e42e21de7"
      },
      "source": [
        "X_train, X_test, y_train, y_test = train_test_split(X, y, test_size=0.2, random_state = 42)\n",
        "print(\"Total data train: \", len(y_train))\n",
        "print(\"Total data test: \", len(y_test))"
      ],
      "execution_count": 24,
      "outputs": [
        {
          "output_type": "stream",
          "text": [
            "Total data train:  2841\n",
            "Total data test:  711\n"
          ],
          "name": "stdout"
        }
      ]
    },
    {
      "cell_type": "markdown",
      "metadata": {
        "id": "gA-nQjh6Yy8c"
      },
      "source": [
        "Menggunakan fungsi tokenizer"
      ]
    },
    {
      "cell_type": "code",
      "metadata": {
        "id": "oNOni6ptrwMe"
      },
      "source": [
        "tokenizer = Tokenizer(num_words=10000, oov_token='x')"
      ],
      "execution_count": 25,
      "outputs": []
    },
    {
      "cell_type": "code",
      "metadata": {
        "id": "Nv11eivlscVL"
      },
      "source": [
        "tokenizer.fit_on_texts(X_train)\n",
        "tokenizer.fit_on_texts(X_test)"
      ],
      "execution_count": 26,
      "outputs": []
    },
    {
      "cell_type": "code",
      "metadata": {
        "id": "rEpRJINasd2U"
      },
      "source": [
        "sequence_train = tokenizer.texts_to_sequences(X_train)\n",
        "sequence_test = tokenizer.texts_to_sequences(X_test)"
      ],
      "execution_count": 27,
      "outputs": []
    },
    {
      "cell_type": "code",
      "metadata": {
        "id": "rlxpCoaPLeZd"
      },
      "source": [
        "padded_train = pad_sequences(sequence_train, maxlen=300, padding=\"post\", truncating=\"post\")\n",
        "padded_test = pad_sequences(sequence_test, maxlen=300, padding=\"post\", truncating=\"post\")"
      ],
      "execution_count": 56,
      "outputs": []
    },
    {
      "cell_type": "markdown",
      "metadata": {
        "id": "LVUIqt1AY5W0"
      },
      "source": [
        "Menggunakan model sequential dan layer Embedding"
      ]
    },
    {
      "cell_type": "code",
      "metadata": {
        "colab": {
          "base_uri": "https://localhost:8080/"
        },
        "id": "8uiepKoWLh6v",
        "outputId": "c901917c-fb3e-449a-eee9-dc3b850d3257"
      },
      "source": [
        "model = Sequential([\n",
        "                    tf.keras.layers.Embedding(10000, output_dim=300),\n",
        "                    tf.keras.layers.Bidirectional(tf.keras.layers.LSTM(64)),\n",
        "                    tf.keras.layers.Dropout(0.5),\n",
        "                    tf.keras.layers.Flatten(),\n",
        "                    tf.keras.layers.Dense(128, activation='relu'),\n",
        "                    tf.keras.layers.Dense(64, activation='relu'),\n",
        "                    tf.keras.layers.Dropout(0.5),\n",
        "                    tf.keras.layers.Dense(4, activation='softmax')\n",
        "])\n",
        "\n",
        "model.summary()"
      ],
      "execution_count": 57,
      "outputs": [
        {
          "output_type": "stream",
          "text": [
            "Model: \"sequential_7\"\n",
            "_________________________________________________________________\n",
            "Layer (type)                 Output Shape              Param #   \n",
            "=================================================================\n",
            "embedding_7 (Embedding)      (None, None, 300)         3000000   \n",
            "_________________________________________________________________\n",
            "bidirectional_7 (Bidirection (None, 128)               186880    \n",
            "_________________________________________________________________\n",
            "dropout_13 (Dropout)         (None, 128)               0         \n",
            "_________________________________________________________________\n",
            "flatten_7 (Flatten)          (None, 128)               0         \n",
            "_________________________________________________________________\n",
            "dense_24 (Dense)             (None, 128)               16512     \n",
            "_________________________________________________________________\n",
            "dense_25 (Dense)             (None, 64)                8256      \n",
            "_________________________________________________________________\n",
            "dropout_14 (Dropout)         (None, 64)                0         \n",
            "_________________________________________________________________\n",
            "dense_26 (Dense)             (None, 4)                 260       \n",
            "=================================================================\n",
            "Total params: 3,211,908\n",
            "Trainable params: 3,211,908\n",
            "Non-trainable params: 0\n",
            "_________________________________________________________________\n"
          ],
          "name": "stdout"
        }
      ]
    },
    {
      "cell_type": "code",
      "metadata": {
        "colab": {
          "base_uri": "https://localhost:8080/"
        },
        "id": "D87trOvLLm6M",
        "outputId": "bf570ee8-b23d-4cbb-e3da-c23bd59f8057"
      },
      "source": [
        "# Compile model\n",
        "model.compile(tf.keras.optimizers.Adam(learning_rate=0.0001),\n",
        "              loss='categorical_crossentropy',\n",
        "              metrics=['accuracy'])\n",
        "\n",
        "print('Compiling Model.......')"
      ],
      "execution_count": 58,
      "outputs": [
        {
          "output_type": "stream",
          "text": [
            "Compiling Model.......\n"
          ],
          "name": "stdout"
        }
      ]
    },
    {
      "cell_type": "markdown",
      "metadata": {
        "id": "WWu0e_ziZBoP"
      },
      "source": [
        "Menggunakan Callback"
      ]
    },
    {
      "cell_type": "code",
      "metadata": {
        "id": "4JmUEQHPLq_o"
      },
      "source": [
        "class myCallback(tf.keras.callbacks.Callback):\n",
        "  def on_epoch_end(self, epoch, logs={}):\n",
        "    if(logs.get('val_accuracy') > 0.90):\n",
        "      print('\\nYeay, akurasi memenuhi target!')\n",
        "      self.model.stop_training = True\n",
        "\n",
        "callbacks = myCallback()"
      ],
      "execution_count": 59,
      "outputs": []
    },
    {
      "cell_type": "markdown",
      "metadata": {
        "id": "N4-HvhblZK5D"
      },
      "source": [
        "Menjalankan Model"
      ]
    },
    {
      "cell_type": "code",
      "metadata": {
        "colab": {
          "base_uri": "https://localhost:8080/"
        },
        "id": "xk53bcFLLsfe",
        "outputId": "ffbe02b6-dc53-4311-a300-5534b25c9967"
      },
      "source": [
        "history = model.fit(padded_train, \n",
        "                    y_train, \n",
        "                    epochs=30, \n",
        "                    validation_data=(padded_test, y_test), \n",
        "                    callbacks=[callbacks], \n",
        "                    verbose=2)"
      ],
      "execution_count": 60,
      "outputs": [
        {
          "output_type": "stream",
          "text": [
            "Epoch 1/30\n",
            "89/89 - 8s - loss: 1.3854 - accuracy: 0.2654 - val_loss: 1.3850 - val_accuracy: 0.2883\n",
            "Epoch 2/30\n",
            "89/89 - 5s - loss: 1.3811 - accuracy: 0.3136 - val_loss: 1.3788 - val_accuracy: 0.4416\n",
            "Epoch 3/30\n",
            "89/89 - 5s - loss: 1.3638 - accuracy: 0.3784 - val_loss: 1.3437 - val_accuracy: 0.5387\n",
            "Epoch 4/30\n",
            "89/89 - 5s - loss: 1.2402 - accuracy: 0.5160 - val_loss: 1.0905 - val_accuracy: 0.5584\n",
            "Epoch 5/30\n",
            "89/89 - 5s - loss: 0.9110 - accuracy: 0.5769 - val_loss: 0.8050 - val_accuracy: 0.6695\n",
            "Epoch 6/30\n",
            "89/89 - 5s - loss: 0.7978 - accuracy: 0.6748 - val_loss: 0.7523 - val_accuracy: 0.7750\n",
            "Epoch 7/30\n",
            "89/89 - 5s - loss: 0.6389 - accuracy: 0.7455 - val_loss: 0.6152 - val_accuracy: 0.8242\n",
            "Epoch 8/30\n",
            "89/89 - 5s - loss: 0.5067 - accuracy: 0.8085 - val_loss: 0.5161 - val_accuracy: 0.8636\n",
            "Epoch 9/30\n",
            "89/89 - 5s - loss: 0.3838 - accuracy: 0.8712 - val_loss: 0.4333 - val_accuracy: 0.8833\n",
            "Epoch 10/30\n",
            "89/89 - 5s - loss: 0.2678 - accuracy: 0.9250 - val_loss: 0.3705 - val_accuracy: 0.8762\n",
            "Epoch 11/30\n",
            "89/89 - 5s - loss: 0.3971 - accuracy: 0.9117 - val_loss: 0.4880 - val_accuracy: 0.8397\n",
            "Epoch 12/30\n",
            "89/89 - 5s - loss: 0.2449 - accuracy: 0.9472 - val_loss: 0.3930 - val_accuracy: 0.8748\n",
            "Epoch 13/30\n",
            "89/89 - 5s - loss: 0.1806 - accuracy: 0.9637 - val_loss: 0.3726 - val_accuracy: 0.8833\n",
            "Epoch 14/30\n",
            "89/89 - 5s - loss: 0.1393 - accuracy: 0.9740 - val_loss: 0.3683 - val_accuracy: 0.8748\n",
            "Epoch 15/30\n",
            "89/89 - 5s - loss: 0.1163 - accuracy: 0.9722 - val_loss: 0.3538 - val_accuracy: 0.8903\n",
            "Epoch 16/30\n",
            "89/89 - 5s - loss: 0.0900 - accuracy: 0.9835 - val_loss: 0.3449 - val_accuracy: 0.8959\n",
            "Epoch 17/30\n",
            "89/89 - 5s - loss: 0.0754 - accuracy: 0.9873 - val_loss: 0.3636 - val_accuracy: 0.8903\n",
            "Epoch 18/30\n",
            "89/89 - 5s - loss: 0.0662 - accuracy: 0.9887 - val_loss: 0.3511 - val_accuracy: 0.9001\n",
            "\n",
            "Yeay, akurasi memenuhi target!\n"
          ],
          "name": "stdout"
        }
      ]
    },
    {
      "cell_type": "code",
      "metadata": {
        "id": "qtpHNX_tLuAm",
        "colab": {
          "base_uri": "https://localhost:8080/",
          "height": 295
        },
        "outputId": "e4c07787-f045-41e9-f818-ac2d6a6843d8"
      },
      "source": [
        "plt.plot(history.history['loss'], label='Training Loss')\n",
        "plt.plot(history.history['val_loss'], label='Validation Loss')\n",
        "plt.title('Training and Validation Loss')\n",
        "plt.ylabel('value')\n",
        "plt.xlabel('No. epoch')\n",
        "plt.legend(loc=\"upper left\")\n",
        "plt.show()"
      ],
      "execution_count": 61,
      "outputs": [
        {
          "output_type": "display_data",
          "data": {
            "image/png": "[encoded data removed]",
            "text/plain": [
              "<Figure size 432x288 with 1 Axes>"
            ]
          },
          "metadata": {
            "tags": [],
            "needs_background": "light"
          }
        }
      ]
    },
    {
      "cell_type": "code",
      "metadata": {
        "colab": {
          "base_uri": "https://localhost:8080/",
          "height": 295
        },
        "id": "0ainBpM9cMe6",
        "outputId": "e1319ffb-ef89-4689-dbad-3e16a68938ec"
      },
      "source": [
        "plt.plot(history.history['accuracy'], label='Training Accuracy')\n",
        "plt.plot(history.history['val_accuracy'], label='Validation Accuracy')\n",
        "plt.title('Training and Validation Accuracy')\n",
        "plt.ylabel('value')\n",
        "plt.xlabel('No. epoch')\n",
        "plt.legend(loc=\"upper left\")\n",
        "plt.show()"
      ],
      "execution_count": 62,
      "outputs": [
        {
          "output_type": "display_data",
          "data": {
            "image/png": "[encoded data removed]",
            "text/plain": [
              "<Figure size 432x288 with 1 Axes>"
            ]
          },
          "metadata": {
            "tags": [],
            "needs_background": "light"
          }
        }
      ]
    },
    {
      "cell_type": "code",
      "metadata": {
        "id": "TCXhqVjxeQLo"
      },
      "source": [
        ""
      ],
      "execution_count": null,
      "outputs": []
    }
  ]
}